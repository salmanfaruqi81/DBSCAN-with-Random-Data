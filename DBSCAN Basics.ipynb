{
 "cells": [
  {
   "cell_type": "code",
   "execution_count": 115,
   "id": "97eb0a3a",
   "metadata": {},
   "outputs": [],
   "source": [
    "import numpy as np\n",
    "import pandas as pd\n",
    "\n",
    "from sklearn.cluster import DBSCAN\n",
    "from sklearn import metrics\n",
    "from sklearn.preprocessing import StandardScaler\n",
    "from sklearn.datasets import make_blobs\n",
    "import matplotlib.pyplot as plt"
   ]
  },
  {
   "cell_type": "code",
   "execution_count": 116,
   "id": "c3c3d220",
   "metadata": {},
   "outputs": [],
   "source": [
    "# DATA CREATION:\n",
    "\n",
    "centers = [[1,1], [-1,-1],[1,-1]]\n",
    "X, labels_true = make_blobs(n_samples=750, centers=centers, cluster_std=0.4, random_state=0)"
   ]
  },
  {
   "cell_type": "code",
   "execution_count": 117,
   "id": "415a734f",
   "metadata": {},
   "outputs": [
    {
     "data": {
      "text/plain": [
       "array([[ 0.84022039,  1.14802236],\n",
       "       [-1.15474834, -1.2041171 ],\n",
       "       [ 0.67863613,  0.72418009],\n",
       "       ...,\n",
       "       [ 0.26798858, -1.27833405],\n",
       "       [-0.88628813, -0.30293249],\n",
       "       [ 0.60046048, -1.29605472]])"
      ]
     },
     "execution_count": 117,
     "metadata": {},
     "output_type": "execute_result"
    }
   ],
   "source": [
    "X"
   ]
  },
  {
   "cell_type": "code",
   "execution_count": 118,
   "id": "86fbe3f2",
   "metadata": {},
   "outputs": [
    {
     "data": {
      "text/plain": [
       "array([0, 1, 0, 2, 0, 1, 1, 2, 0, 0, 1, 1, 1, 2, 1, 0, 1, 1, 2, 2, 2, 2,\n",
       "       2, 2, 1, 1, 2, 0, 0, 2, 0, 1, 1, 0, 1, 0, 2, 0, 0, 2, 2, 1, 1, 1,\n",
       "       1, 1, 0, 2, 0, 1, 2, 2, 1, 1, 2, 2, 1, 0, 2, 1, 2, 2, 2, 2, 2, 0,\n",
       "       2, 2, 0, 0, 0, 2, 0, 0, 2, 1, 0, 1, 0, 2, 1, 1, 0, 0, 0, 0, 1, 2,\n",
       "       1, 2, 2, 0, 1, 0, 1, 0, 1, 1, 0, 0, 2, 1, 2, 0, 2, 2, 2, 2, 0, 0,\n",
       "       0, 1, 1, 1, 1, 0, 0, 1, 0, 1, 2, 1, 0, 0, 1, 2, 1, 0, 0, 2, 0, 2,\n",
       "       2, 2, 0, 1, 2, 2, 0, 1, 0, 2, 0, 0, 2, 2, 2, 2, 1, 0, 2, 1, 1, 2,\n",
       "       2, 2, 0, 1, 0, 1, 0, 1, 0, 2, 2, 1, 1, 2, 2, 1, 0, 1, 2, 2, 2, 1,\n",
       "       1, 2, 2, 0, 1, 2, 0, 0, 2, 0, 0, 1, 0, 1, 0, 1, 1, 2, 2, 0, 0, 1,\n",
       "       1, 2, 1, 2, 2, 2, 2, 0, 2, 0, 2, 2, 0, 2, 2, 2, 0, 0, 1, 1, 1, 2,\n",
       "       2, 2, 2, 1, 2, 2, 0, 0, 2, 0, 0, 0, 1, 0, 1, 1, 1, 2, 1, 1, 0, 1,\n",
       "       2, 2, 1, 2, 2, 1, 0, 0, 1, 1, 1, 0, 1, 0, 2, 0, 2, 0, 2, 2, 2, 1,\n",
       "       1, 0, 0, 1, 1, 0, 0, 2, 1, 2, 2, 1, 1, 2, 1, 2, 0, 2, 2, 0, 1, 2,\n",
       "       2, 0, 2, 2, 0, 0, 2, 0, 2, 0, 2, 1, 0, 0, 0, 1, 2, 1, 2, 2, 0, 2,\n",
       "       2, 0, 0, 2, 1, 1, 1, 1, 1, 0, 1, 1, 1, 1, 0, 0, 1, 1, 1, 0, 2, 0,\n",
       "       1, 2, 2, 0, 0, 2, 0, 2, 1, 0, 2, 0, 2, 0, 2, 2, 0, 1, 0, 1, 0, 2,\n",
       "       2, 1, 1, 1, 2, 0, 2, 0, 2, 1, 2, 2, 0, 1, 0, 1, 0, 0, 0, 0, 2, 0,\n",
       "       2, 0, 1, 0, 1, 2, 1, 1, 1, 0, 1, 1, 0, 2, 1, 0, 2, 2, 1, 1, 2, 2,\n",
       "       2, 1, 2, 1, 2, 0, 2, 1, 2, 1, 0, 1, 0, 1, 1, 0, 1, 2, 0, 1, 0, 0,\n",
       "       2, 1, 2, 2, 2, 2, 1, 0, 0, 0, 0, 1, 0, 2, 1, 0, 1, 2, 0, 0, 1, 0,\n",
       "       1, 1, 0, 2, 0, 2, 2, 2, 1, 1, 2, 0, 1, 0, 0, 1, 0, 1, 1, 2, 2, 1,\n",
       "       0, 1, 2, 2, 1, 1, 1, 1, 0, 0, 0, 2, 2, 1, 2, 1, 0, 0, 1, 2, 1, 0,\n",
       "       0, 2, 0, 1, 0, 2, 1, 0, 2, 2, 1, 0, 2, 0, 2, 1, 1, 0, 2, 0, 0, 1,\n",
       "       1, 1, 1, 0, 1, 0, 1, 0, 0, 2, 0, 1, 1, 2, 1, 1, 0, 1, 0, 2, 1, 0,\n",
       "       0, 1, 0, 1, 1, 2, 2, 1, 2, 2, 1, 2, 1, 1, 1, 1, 2, 0, 0, 0, 1, 2,\n",
       "       2, 0, 2, 0, 2, 1, 0, 1, 1, 0, 0, 1, 2, 1, 2, 2, 0, 2, 1, 1, 1, 2,\n",
       "       0, 0, 2, 0, 2, 2, 0, 2, 0, 1, 1, 1, 1, 0, 0, 0, 2, 1, 1, 1, 1, 2,\n",
       "       2, 2, 0, 2, 1, 1, 0, 0, 1, 0, 2, 1, 2, 1, 0, 2, 2, 0, 0, 1, 0, 0,\n",
       "       2, 0, 0, 0, 2, 0, 2, 0, 0, 1, 1, 0, 0, 1, 2, 2, 0, 0, 0, 0, 2, 1,\n",
       "       1, 1, 2, 1, 0, 0, 2, 2, 0, 1, 2, 0, 1, 2, 2, 1, 0, 0, 0, 1, 2, 0,\n",
       "       0, 0, 2, 2, 2, 0, 1, 1, 1, 1, 1, 0, 0, 2, 1, 2, 0, 1, 1, 1, 0, 2,\n",
       "       1, 1, 1, 2, 1, 2, 0, 2, 2, 1, 0, 0, 0, 1, 1, 2, 0, 0, 2, 2, 1, 2,\n",
       "       2, 2, 0, 2, 1, 2, 1, 1, 1, 2, 0, 2, 0, 2, 2, 0, 0, 2, 1, 2, 0, 2,\n",
       "       0, 0, 0, 1, 0, 2, 1, 2, 0, 1, 0, 0, 2, 0, 2, 1, 1, 2, 1, 0, 1, 2,\n",
       "       1, 2])"
      ]
     },
     "execution_count": 118,
     "metadata": {},
     "output_type": "execute_result"
    }
   ],
   "source": [
    "labels_true"
   ]
  },
  {
   "cell_type": "code",
   "execution_count": 119,
   "id": "2e6a89bd",
   "metadata": {},
   "outputs": [],
   "source": [
    "X = StandardScaler().fit_transform(X)"
   ]
  },
  {
   "cell_type": "code",
   "execution_count": 120,
   "id": "cf7e61aa",
   "metadata": {},
   "outputs": [
    {
     "data": {
      "text/plain": [
       "array([[ 0.49426097,  1.45106697],\n",
       "       [-1.42808099, -0.83706377],\n",
       "       [ 0.33855918,  1.03875871],\n",
       "       ...,\n",
       "       [-0.05713876, -0.90926105],\n",
       "       [-1.16939407,  0.03959692],\n",
       "       [ 0.26322951, -0.92649949]])"
      ]
     },
     "execution_count": 120,
     "metadata": {},
     "output_type": "execute_result"
    }
   ],
   "source": [
    "X"
   ]
  },
  {
   "cell_type": "code",
   "execution_count": 121,
   "id": "dc5fc59d",
   "metadata": {},
   "outputs": [],
   "source": [
    "# DBSCAN\n",
    "db = DBSCAN(eps=0.3, min_samples=10).fit(X)\n",
    "\n",
    "core_samples_mask = np.zeros_like(db.labels_, dtype=bool) #creating an array of true and false as the same size as db.label\n",
    "core_samples_mask[db.core_sample_indices_] = True # Setting the indices of core regions to true\n",
    "labels_ = db.labels_ # Labelling the clustered data\n"
   ]
  },
  {
   "cell_type": "code",
   "execution_count": 122,
   "id": "cd3becda",
   "metadata": {},
   "outputs": [],
   "source": [
    "# Number of clusters in labels, ignoring noise if present:\n",
    "n_clusters = len(set(labels_)) - (1 if -1 in labels else 0) #label -1 considered as noise by DBScanalgo\n",
    "n_noise = list(labels_).count(-1) # calculating the number of clusters"
   ]
  },
  {
   "cell_type": "code",
   "execution_count": 123,
   "id": "05a3a454",
   "metadata": {},
   "outputs": [
    {
     "data": {
      "text/plain": [
       "3"
      ]
     },
     "execution_count": 123,
     "metadata": {},
     "output_type": "execute_result"
    }
   ],
   "source": [
    "n_clusters"
   ]
  },
  {
   "cell_type": "code",
   "execution_count": 124,
   "id": "66e6447d",
   "metadata": {},
   "outputs": [
    {
     "data": {
      "text/plain": [
       "18"
      ]
     },
     "execution_count": 124,
     "metadata": {},
     "output_type": "execute_result"
    }
   ],
   "source": [
    "n_noise"
   ]
  },
  {
   "cell_type": "code",
   "execution_count": 125,
   "id": "3ebe4eb5",
   "metadata": {},
   "outputs": [
    {
     "name": "stdout",
     "output_type": "stream",
     "text": [
      "Homogeneity: 0.953\n"
     ]
    }
   ],
   "source": [
    "print(\"Homogeneity: %0.3f\" % metrics.homogeneity_score(labels_true, labels))\n",
    "#A clusterning result satisfies Hom if all its clusters contain only data points which are members of a single class."
   ]
  },
  {
   "cell_type": "code",
   "execution_count": 126,
   "id": "e9ddd711",
   "metadata": {},
   "outputs": [
    {
     "data": {
      "image/png": "[encoded data removed]",
      "text/plain": [
       "<Figure size 432x288 with 1 Axes>"
      ]
     },
     "metadata": {
      "needs_background": "light"
     },
     "output_type": "display_data"
    }
   ],
   "source": [
    "# Plotting the result:\n",
    "\n",
    "unique_labels = set(labels) #to identify all unique clusters labels\n",
    "colors = [plt.cm.Spectral(each)\n",
    "         for each in np.linspace(0,1, len(unique_labels)) #creating the list of colors, generating colormap\n",
    "         ]\n",
    "\n",
    "for k, col in zip(unique_labels, colors):\n",
    "    \n",
    "    if k == -1:\n",
    "        # use Black color for noise.\n",
    "        col = [0,0,0,1]\n",
    "        \n",
    "    class_member_mask = (labels_ == k) # assigning class members for each class\n",
    "    \n",
    "    xy = X[class_member_mask & core_samples_mask] # Creating list of points for each class\n",
    "    \n",
    "    plt.plot(xy[:,0], xy[:,1], 'o', markerfacecolor=tuple(col), markeredgecolor='k', markersize=14)\n",
    "    \n",
    "    xy = X[class_member_mask & ~core_samples_mask] # creting the list of noise points\n",
    "    \n",
    "    plt.plot(xy[:,0], xy[:, 1], 'o', markerfacecolor=tuple(col),markeredgecolor='k', markersize=14)\n",
    "    "
   ]
  },
  {
   "cell_type": "markdown",
   "id": "0f4e7aa8",
   "metadata": {},
   "source": [
    "### Evaluating the cluster:\n",
    "    "
   ]
  },
  {
   "cell_type": "code",
   "execution_count": 127,
   "id": "eb3d41b5",
   "metadata": {},
   "outputs": [
    {
     "name": "stdout",
     "output_type": "stream",
     "text": [
      "Rand Index: 0.952\n"
     ]
    }
   ],
   "source": [
    "## External Measurements:\n",
    "#1. Rand Index:\n",
    "print(\"Rand Index: %0.3f\" % metrics.adjusted_rand_score(labels_true, labels))\n",
    "    "
   ]
  },
  {
   "cell_type": "code",
   "execution_count": 137,
   "id": "5a42a46d",
   "metadata": {},
   "outputs": [
    {
     "data": {
      "text/plain": [
       "0.9455252918287937"
      ]
     },
     "execution_count": 137,
     "metadata": {},
     "output_type": "execute_result"
    }
   ],
   "source": [
    "# 1. Jaccard Coefficient:\n",
    "\n",
    "jaccard_score(labels_true, labels_, average='micro')"
   ]
  },
  {
   "cell_type": "code",
   "execution_count": 139,
   "id": "b5cfb6f7",
   "metadata": {},
   "outputs": [
    {
     "data": {
      "text/plain": [
       "0.9813333333333333"
      ]
     },
     "execution_count": 139,
     "metadata": {},
     "output_type": "execute_result"
    }
   ],
   "source": [
    "# 3. Purity and impurity of data:\n",
    "\n",
    "def purity_score(y_true, y_pred):\n",
    "    # computing contingency matrix / confusion matrix\n",
    "    \n",
    "    contingency_matrix = metrics.cluster.contingency_matrix(y_true, y_pred)\n",
    "    \n",
    "    # Return Purity:\n",
    "    return np.sum(np.amax(contingency_matrix, axis=0)) / np.sum(contingency_matrix)\n",
    "\n",
    "\n",
    "purity_score(labels_true, labels)"
   ]
  },
  {
   "cell_type": "code",
   "execution_count": null,
   "id": "dcd19008",
   "metadata": {},
   "outputs": [],
   "source": []
  },
  {
   "cell_type": "code",
   "execution_count": null,
   "id": "7dea73f7",
   "metadata": {},
   "outputs": [],
   "source": []
  }
 ],
 "metadata": {
  "kernelspec": {
   "display_name": "Python 3 (ipykernel)",
   "language": "python",
   "name": "python3"
  },
  "language_info": {
   "codemirror_mode": {
    "name": "ipython",
    "version": 3
   },
   "file_extension": ".py",
   "mimetype": "text/x-python",
   "name": "python",
   "nbconvert_exporter": "python",
   "pygments_lexer": "ipython3",
   "version": "3.9.7"
  }
 },
 "nbformat": 4,
 "nbformat_minor": 5
}
